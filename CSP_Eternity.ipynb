{
  "nbformat": 4,
  "nbformat_minor": 0,
  "metadata": {
    "colab": {
      "name": "CSP_Eternity.ipynb",
      "provenance": [],
      "collapsed_sections": [],
      "authorship_tag": "ABX9TyO6LYdjaSDbl9upEh2T04wt",
      "include_colab_link": true
    },
    "kernelspec": {
      "name": "python3",
      "display_name": "Python 3"
    }
  },
  "cells": [
    {
      "cell_type": "markdown",
      "metadata": {
        "id": "view-in-github",
        "colab_type": "text"
      },
      "source": [
        "<a href=\"https://colab.research.google.com/github/RenzoPL23/Eternity-game/blob/master/CSP_Eternity.ipynb\" target=\"_parent\"><img src=\"https://colab.research.google.com/assets/colab-badge.svg\" alt=\"Open In Colab\"/></a>"
      ]
    },
    {
      "cell_type": "code",
      "metadata": {
        "id": "9ETOWbavMMr8",
        "colab_type": "code",
        "colab": {
          "base_uri": "https://localhost:8080/",
          "height": 323
        },
        "outputId": "63188d69-7ef7-489c-b72c-14132de9832e"
      },
      "source": [
        "!pip install ortools"
      ],
      "execution_count": null,
      "outputs": [
        {
          "output_type": "stream",
          "text": [
            "Collecting ortools\n",
            "\u001b[?25l  Downloading https://files.pythonhosted.org/packages/1c/d5/c4382df6b6b978971f11287552f5c0acc54ea7bf8ce70a9c77d8a06531b2/ortools-7.6.7691-cp36-cp36m-manylinux1_x86_64.whl (28.9MB)\n",
            "\u001b[K     |████████████████████████████████| 28.9MB 151kB/s \n",
            "\u001b[?25hRequirement already satisfied: six>=1.10 in /usr/local/lib/python3.6/dist-packages (from ortools) (1.12.0)\n",
            "Collecting protobuf>=3.11.2\n",
            "\u001b[?25l  Downloading https://files.pythonhosted.org/packages/57/02/5432412c162989260fab61fa65e0a490c1872739eb91a659896e4d554b26/protobuf-3.11.3-cp36-cp36m-manylinux1_x86_64.whl (1.3MB)\n",
            "\u001b[K     |████████████████████████████████| 1.3MB 47.1MB/s \n",
            "\u001b[?25hRequirement already satisfied: setuptools in /usr/local/lib/python3.6/dist-packages (from protobuf>=3.11.2->ortools) (46.1.3)\n",
            "Installing collected packages: protobuf, ortools\n",
            "  Found existing installation: protobuf 3.10.0\n",
            "    Uninstalling protobuf-3.10.0:\n",
            "      Successfully uninstalled protobuf-3.10.0\n",
            "Successfully installed ortools-7.6.7691 protobuf-3.11.3\n"
          ],
          "name": "stdout"
        },
        {
          "output_type": "display_data",
          "data": {
            "application/vnd.colab-display-data+json": {
              "pip_warning": {
                "packages": [
                  "google"
                ]
              }
            }
          },
          "metadata": {
            "tags": []
          }
        }
      ]
    },
    {
      "cell_type": "code",
      "metadata": {
        "id": "79CSWZmPq7Qj",
        "colab_type": "code",
        "colab": {}
      },
      "source": [
        "from ortools.sat.python import cp_model"
      ],
      "execution_count": null,
      "outputs": []
    },
    {
      "cell_type": "code",
      "metadata": {
        "id": "ZTnK8HtCW8vl",
        "colab_type": "code",
        "colab": {}
      },
      "source": [
        "# 0 1 2 3 4 5 6 7 8\n",
        "# - G R V Y A B O R\n",
        "strFichas=\"- G R - V V Y V A V V Y Y A V Y V Y Y V G - - G - B V G Y Y A V A V Y V A V V A B - G Y R V O - Y Y V Y V Y V Y V V Y Y Y G - R - O Y B Y Y A Y Y V A V O - B V O Y R - V Y V Y V Y V V Y R - B - O Y O Y V Y Y R - O V R Y B - V V Y Y V B - O - B Y O R - R V B Y G - Y O - G - - R B G G - -\"\n",
        "strFichas2 = strFichas.replace(\" \",\"\")\n",
        "fichas2=[]\n",
        "for i in range(36):\n",
        "  ficha=0\n",
        "  for j in range(4):\n",
        "    posicion= 10**(3-j)\n",
        "    if(strFichas2[i*4+j]==\"-\"):\n",
        "      ficha+=posicion*0\n",
        "    elif(strFichas2[i*4+j]==\"G\"):\n",
        "      ficha+=posicion*1\n",
        "    elif(strFichas2[i*4+j]==\"R\"):\n",
        "      ficha+=posicion*2\n",
        "    elif(strFichas2[i*4+j]==\"V\"):\n",
        "      ficha+=posicion*3\n",
        "    elif(strFichas2[i*4+j]==\"Y\"):\n",
        "      ficha+=posicion*4\n",
        "    elif(strFichas2[i*4+j]==\"A\"):\n",
        "      ficha+=posicion*5\n",
        "    elif(strFichas2[i*4+j]==\"B\"):\n",
        "      ficha+=posicion*6\n",
        "    elif(strFichas2[i*4+j]==\"O\"):\n",
        "      ficha+=posicion*7\n",
        "    elif(strFichas2[i*4+j]==\"R\"):\n",
        "      ficha+=posicion*8\n",
        "  fichas2+=[ficha]\n",
        "fichas2.sort()\n"
      ],
      "execution_count": null,
      "outputs": []
    },
    {
      "cell_type": "code",
      "metadata": {
        "id": "JiwszdITsrfX",
        "colab_type": "code",
        "colab": {
          "base_uri": "https://localhost:8080/",
          "height": 629
        },
        "outputId": "1535fb88-ec97-42b6-c19a-9f0431f8803d"
      },
      "source": [
        "fichas2"
      ],
      "execution_count": null,
      "outputs": [
        {
          "output_type": "execute_result",
          "data": {
            "text/plain": [
              "[26,\n",
              " 120,\n",
              " 631,\n",
              " 647,\n",
              " 746,\n",
              " 747,\n",
              " 1001,\n",
              " 1100,\n",
              " 2023,\n",
              " 2073,\n",
              " 2370,\n",
              " 2460,\n",
              " 3343,\n",
              " 3344,\n",
              " 3344,\n",
              " 3433,\n",
              " 3434,\n",
              " 3434,\n",
              " 3443,\n",
              " 3607,\n",
              " 4102,\n",
              " 4206,\n",
              " 4344,\n",
              " 4353,\n",
              " 4434,\n",
              " 4453,\n",
              " 4454,\n",
              " 4534,\n",
              " 4701,\n",
              " 5334,\n",
              " 5335,\n",
              " 5343,\n",
              " 6014,\n",
              " 6410,\n",
              " 7063,\n",
              " 7420]"
            ]
          },
          "metadata": {
            "tags": []
          },
          "execution_count": 4
        }
      ]
    },
    {
      "cell_type": "code",
      "metadata": {
        "id": "xaGGdYV3D3Ph",
        "colab_type": "code",
        "colab": {}
      },
      "source": [
        "model = cp_model.CpModel()\n",
        "grid = []\n",
        "sums=[]\n",
        "for i in range(6):\n",
        "    row = []\n",
        "    sumrow=[]\n",
        "    for j in range(6):\n",
        "      four=[]\n",
        "      for k in range(4):\n",
        "        four+=[model.NewIntVar(0,9,\"x\"+str(i)+str(j)+str(k))]\n",
        "      row+=[four]\n",
        "      sumrow+=[model.NewIntVarFromDomain(cp_model.Domain.FromValues(fichas2),\"sum\"+str(i)+str(j))]\n",
        "    grid +=[row]\n",
        "    sums+=[sumrow]\n",
        "\n",
        "sumsAux=[]\n",
        "for i in range(6):\n",
        "  for j in range(6):\n",
        "    sumsAux.append(sums[i][j])\n",
        "    model.Add(grid[i][j][0]*1000+grid[i][j][1]*100+grid[i][j][2]*10+grid[i][j][3]==sums[i][j])\n",
        "\n",
        "    if(i!=5):\n",
        "      model.Add(grid[i][j][2]==grid[i+1][j][0])\n",
        "    if(j!=5):\n",
        "      model.Add(grid[i][j][1]==grid[i][j+1][3])\n",
        "  \n",
        "countsMatrix=[[[] for i in range(36)]for i in range(36)]\n",
        "duplicates=[13,14,16,17]\n",
        "\n",
        "for i in range(6):\n",
        "  for j in range(6):\n",
        "    model.Add(grid[0][i][0]==0)\n",
        "    model.Add(grid[5][i][2]==0)\n",
        "    model.Add(grid[i][0][3]==0)\n",
        "    model.Add(grid[i][5][1]==0)\n",
        "\n",
        "#model.AddDecisionStrategy(sumsAux,cp_model.CHOOSE_FIRST,cp_model.SELECT_MIN_VALUE) #1\n",
        "\n",
        "#model.AddDecisionStrategy(sumsAux,cp_model.CHOOSE_LOWEST_MIN,cp_model.SELECT_UPPER_HALF) #2\n",
        "#model.AddDecisionStrategy(sumsAux,cp_model.CHOOSE_HIGHEST_MAX,cp_model.SELECT_LOWER_HALF) #3\n",
        "\n",
        "for i in range(36):\n",
        "  for j in range(36):\n",
        "    countsMatrix[i][j]=model.NewBoolVar(\"count\"+str(i)+str(j))\n",
        "    model.Add(sumsAux[j]==fichas2[i]).OnlyEnforceIf(countsMatrix[i][j])\n",
        "    model.Add(sumsAux[j]!=fichas2[i]).OnlyEnforceIf(countsMatrix[i][j].Not())\n",
        "  if(i in duplicates):\n",
        "    model.Add(sum(countsMatrix[i]) == 2)\n",
        "  else:\n",
        "    model.Add(sum(countsMatrix[i])==1)\n"
      ],
      "execution_count": null,
      "outputs": []
    },
    {
      "cell_type": "markdown",
      "metadata": {
        "id": "Wn-gTLcU5jxk",
        "colab_type": "text"
      },
      "source": [
        "# CHOOSE_FIRST, SELECT_MIN_VALUE"
      ]
    },
    {
      "cell_type": "code",
      "metadata": {
        "id": "z5C2IsPzpYPU",
        "colab_type": "code",
        "colab": {
          "base_uri": "https://localhost:8080/",
          "height": 136
        },
        "outputId": "b00213fd-c770-4800-b2af-4236ee783807"
      },
      "source": [
        "solver = cp_model.CpSolver()\n",
        "status = solver.Solve(model)\n",
        "if status == cp_model.FEASIBLE:\n",
        "    for i in range(6):\n",
        "        for j in range(6):\n",
        "          for k in range(4):\n",
        "            print(solver.Value(grid[i][j][k]),end=\"-\")\n",
        "          print(end=\" \") \n",
        "        print()\n",
        "    print(solver.WallTime())\n",
        "else:\n",
        "  print(\"No se puede manito\")"
      ],
      "execution_count": null,
      "outputs": [
        {
          "output_type": "stream",
          "text": [
            "0-1-2-0- 0-6-3-1- 0-7-4-6- 0-7-4-7- 0-6-4-7- 0-0-2-6- \n",
            "2-3-7-0- 3-3-4-3- 4-4-5-3- 4-4-5-4- 4-3-4-4- 2-0-2-3- \n",
            "7-4-2-0- 4-5-3-4- 5-3-3-5- 5-3-4-3- 4-3-5-3- 2-0-7-3- \n",
            "2-4-6-0- 3-4-3-4- 3-4-3-4- 4-4-3-4- 5-3-3-4- 7-0-6-3- \n",
            "6-4-1-0- 3-3-4-4- 3-4-3-3- 3-3-4-4- 3-4-4-3- 6-0-1-4- \n",
            "1-1-0-0- 4-7-0-1- 3-6-0-7- 4-2-0-6- 4-1-0-2- 1-0-0-1- \n",
            "0.051905994000000004\n"
          ],
          "name": "stdout"
        }
      ]
    },
    {
      "cell_type": "markdown",
      "metadata": {
        "id": "ENgJWSh65src",
        "colab_type": "text"
      },
      "source": [
        "# CHOOSE_LOWEST_MIN,SELECT_UPPER_HALF"
      ]
    },
    {
      "cell_type": "code",
      "metadata": {
        "id": "Ixy1vRij5fsp",
        "colab_type": "code",
        "colab": {
          "base_uri": "https://localhost:8080/",
          "height": 136
        },
        "outputId": "c468e1b7-c545-4054-d8f3-152f67162389"
      },
      "source": [
        "solver = cp_model.CpSolver()\n",
        "status = solver.Solve(model)\n",
        "if status == cp_model.FEASIBLE:\n",
        "    for i in range(6):\n",
        "        for j in range(6):\n",
        "          for k in range(4):\n",
        "            print(solver.Value(grid[i][j][k]),end=\"-\")\n",
        "          print(end=\" \") \n",
        "        print()\n",
        "    print(solver.WallTime())\n",
        "else:\n",
        "  print(\"No se puede manito\")"
      ],
      "execution_count": null,
      "outputs": [
        {
          "output_type": "stream",
          "text": [
            "0-1-2-0- 0-6-3-1- 0-7-4-6- 0-7-4-7- 0-6-4-7- 0-0-2-6- \n",
            "2-3-7-0- 3-3-4-3- 4-4-5-3- 4-4-5-4- 4-3-4-4- 2-0-2-3- \n",
            "7-4-2-0- 4-5-3-4- 5-3-3-5- 5-3-4-3- 4-3-5-3- 2-0-7-3- \n",
            "2-4-6-0- 3-4-3-4- 3-4-3-4- 4-4-3-4- 5-3-3-4- 7-0-6-3- \n",
            "6-4-1-0- 3-3-4-4- 3-4-3-3- 3-3-4-4- 3-4-4-3- 6-0-1-4- \n",
            "1-1-0-0- 4-7-0-1- 3-6-0-7- 4-2-0-6- 4-1-0-2- 1-0-0-1- \n",
            "0.048141453\n"
          ],
          "name": "stdout"
        }
      ]
    },
    {
      "cell_type": "markdown",
      "metadata": {
        "id": "GHe7KVCw53J8",
        "colab_type": "text"
      },
      "source": [
        "#CHOOSE_HIGHEST_MAX, SELECT_LOWER_HALF"
      ]
    },
    {
      "cell_type": "code",
      "metadata": {
        "id": "iFpudDiI5gsn",
        "colab_type": "code",
        "colab": {
          "base_uri": "https://localhost:8080/",
          "height": 136
        },
        "outputId": "f0ece607-1a2a-400d-a863-7d0bced7baca"
      },
      "source": [
        "solver = cp_model.CpSolver()\n",
        "status = solver.Solve(model)\n",
        "if status == cp_model.FEASIBLE:\n",
        "    for i in range(6):\n",
        "        for j in range(6):\n",
        "          for k in range(4):\n",
        "            print(solver.Value(grid[i][j][k]),end=\"-\")\n",
        "          print(end=\" \") \n",
        "        print()\n",
        "    print(solver.WallTime())\n",
        "else:\n",
        "  print(\"No se puede manito\")"
      ],
      "execution_count": null,
      "outputs": [
        {
          "output_type": "stream",
          "text": [
            "0-1-2-0- 0-6-3-1- 0-7-4-6- 0-7-4-7- 0-6-4-7- 0-0-2-6- \n",
            "2-3-7-0- 3-3-4-3- 4-4-5-3- 4-4-5-4- 4-3-4-4- 2-0-2-3- \n",
            "7-4-2-0- 4-5-3-4- 5-3-3-5- 5-3-4-3- 4-3-5-3- 2-0-7-3- \n",
            "2-4-6-0- 3-4-3-4- 3-4-3-4- 4-4-3-4- 5-3-3-4- 7-0-6-3- \n",
            "6-4-1-0- 3-3-4-4- 3-4-3-3- 3-3-4-4- 3-4-4-3- 6-0-1-4- \n",
            "1-1-0-0- 4-7-0-1- 3-6-0-7- 4-2-0-6- 4-1-0-2- 1-0-0-1- \n",
            "0.051922997000000005\n"
          ],
          "name": "stdout"
        }
      ]
    }
  ]
}